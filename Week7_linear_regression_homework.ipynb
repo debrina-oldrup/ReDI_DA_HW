{
 "cells": [
  {
   "cell_type": "markdown",
   "metadata": {},
   "source": [
    "# Homework - week 07\n",
    "\n",
    "In this week's homework you will continue with the exercise on linear regression"
   ]
  },
  {
   "cell_type": "code",
   "execution_count": 3,
   "metadata": {},
   "outputs": [],
   "source": [
    "import numpy as np\n",
    "import pandas as pd\n",
    "import matplotlib.pyplot as plt\n",
    "from sklearn.linear_model import LinearRegression  \n",
    "plt.rcParams[\"figure.figsize\"] = (16, 9)\n",
    "\n",
    "def generate_data(n, var_eps):\n",
    "    np.random.seed(42)\n",
    "    x = np.random.normal(0, 1, [n, 1])\n",
    "    intercept = 10\n",
    "    beta = np.array([1, 0.5]).reshape(-1, 1)\n",
    "    X = np.concatenate([x, x**3], axis=1)\n",
    "    y = intercept + X @ beta + np.random.normal(0, var_eps**0.5, [n, 1])  # y = f(X) + epsilon \n",
    "    return y, x\n"
   ]
  },
  {
   "cell_type": "markdown",
   "metadata": {},
   "source": [
    "Exericse 1) Use the generate_data function to generate 1000 samples with var_eps being set to 1"
   ]
  },
  {
   "cell_type": "code",
   "execution_count": 2,
   "metadata": {},
   "outputs": [],
   "source": [
    "# Disclaimer: I have no idea what I'm doing in this week's homework\n",
    "\n",
    "y, x = generate_data(n=1000, var_eps=1)"
   ]
  },
  {
   "cell_type": "markdown",
   "metadata": {},
   "source": [
    "Exercise 2) Construct the design/feature matrix X for the correctly specified model (you find the correctly specified model in the generate_data function "
   ]
  },
  {
   "cell_type": "code",
   "execution_count": 4,
   "metadata": {},
   "outputs": [],
   "source": [
    "X = np.repeat(x, 2, axis=1)\n",
    "X[:,1] = X[:,1]**3  "
   ]
  },
  {
   "cell_type": "markdown",
   "metadata": {},
   "source": [
    "Exercise 3) Fit the linear regression model with the LinearRegression object of sklearn. Hint: have a look at the exerises notebook"
   ]
  },
  {
   "cell_type": "code",
   "execution_count": 5,
   "metadata": {},
   "outputs": [],
   "source": [
    "from sklearn.linear_model import LinearRegression"
   ]
  },
  {
   "cell_type": "markdown",
   "metadata": {},
   "source": [
    "Exericse 4) Get the intercept and model coefficients. Are the values close to their true values (as specified in the generate_data function) "
   ]
  },
  {
   "cell_type": "code",
   "execution_count": 10,
   "metadata": {},
   "outputs": [
    {
     "data": {
      "text/plain": [
       "array([[0.6270054 ],\n",
       "       [0.68154481]])"
      ]
     },
     "execution_count": 10,
     "metadata": {},
     "output_type": "execute_result"
    }
   ],
   "source": [
    "beta_hat = np.linalg.inv(X.T @ X) @ X.T @ y\n",
    "beta_hat0, beta_hat1  = beta_hat.flatten()\n",
    "beta_hat"
   ]
  },
  {
   "cell_type": "markdown",
   "metadata": {},
   "source": [
    "Exericse 5) Calculate the residual and the mean squared error (https://en.wikipedia.org/wiki/Mean_squared_error) "
   ]
  },
  {
   "cell_type": "code",
   "execution_count": 8,
   "metadata": {},
   "outputs": [
    {
     "name": "stdout",
     "output_type": "stream",
     "text": [
      "beta_hat0=0.627, beta_hat1=0.682\n"
     ]
    }
   ],
   "source": [
    "res = y - X @ beta_hat\n",
    "\n",
    "print(f\"beta_hat0={round(beta_hat0, 3)}, beta_hat1={round(beta_hat1, 3)}\")"
   ]
  },
  {
   "cell_type": "code",
   "execution_count": 13,
   "metadata": {},
   "outputs": [
    {
     "data": {
      "text/plain": [
       "<function sklearn.metrics._regression.mean_squared_error(y_true, y_pred, *, sample_weight=None, multioutput='uniform_average', squared=True)>"
      ]
     },
     "execution_count": 13,
     "metadata": {},
     "output_type": "execute_result"
    }
   ],
   "source": [
    "from sklearn.metrics import mean_squared_error\n",
    "\n",
    "mean_squared_error"
   ]
  },
  {
   "cell_type": "markdown",
   "metadata": {},
   "source": [
    "Exercise 6) Now fit the a model where you use the following design/feature matrix X"
   ]
  },
  {
   "cell_type": "code",
   "execution_count": null,
   "metadata": {},
   "outputs": [],
   "source": []
  },
  {
   "cell_type": "markdown",
   "metadata": {},
   "source": [
    "Exercise 7) Calculate again the residual and the mean squared error (MSE). Why is the MS"
   ]
  },
  {
   "cell_type": "code",
   "execution_count": null,
   "metadata": {},
   "outputs": [],
   "source": []
  }
 ],
 "metadata": {
  "kernelspec": {
   "display_name": "Python 3",
   "language": "python",
   "name": "python3"
  },
  "language_info": {
   "codemirror_mode": {
    "name": "ipython",
    "version": 3
   },
   "file_extension": ".py",
   "mimetype": "text/x-python",
   "name": "python",
   "nbconvert_exporter": "python",
   "pygments_lexer": "ipython3",
   "version": "3.8.5"
  }
 },
 "nbformat": 4,
 "nbformat_minor": 5
}
